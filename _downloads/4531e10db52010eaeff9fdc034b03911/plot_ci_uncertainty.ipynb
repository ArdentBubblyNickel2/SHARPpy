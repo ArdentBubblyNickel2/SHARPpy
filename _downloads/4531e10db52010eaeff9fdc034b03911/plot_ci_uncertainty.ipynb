{
  "cells": [
    {
      "cell_type": "code",
      "execution_count": null,
      "metadata": {
        "collapsed": false
      },
      "outputs": [],
      "source": [
        "%matplotlib inline"
      ]
    },
    {
      "cell_type": "markdown",
      "metadata": {},
      "source": [
        "\nEstimating the uncertainty of convection indices\n================================================\n\nThis example uses the SHARPpy functions to estimate the uncertainty inherent within\nconvection indices.  It uses Monte Carlo sampling and estimates of the systematic and \nrandom errors contained within Vaisala RS-90/92 radiosonde measurements.  \n\nThis methodology and code is was used in `Blumberg et al. 2017, JAMC`__ to demonstrate\nthe uncertainty of convection indices within radiosonde measurements and AERI retrievals.\n\n__ link_\n"
      ]
    },
    {
      "cell_type": "code",
      "execution_count": null,
      "metadata": {
        "collapsed": false
      },
      "outputs": [],
      "source": [
        "import sharppy.sharptab as tab\nimport numpy as np\nimport os\nfrom sharppy.io.spc_decoder import SPCDecoder\nimport matplotlib.pyplot as plt\nfrom matplotlib.ticker import ScalarFormatter, MultipleLocator\nimport sharppy.plot.skew as skew\nnp.random.seed(0)\n\nFILENAME = 'data/14061619.OAX'\n\n# Read in the sounding data and generate a Profile object\ndec = SPCDecoder(FILENAME)\nprofs = dec.getProfiles()\nstn_id = dec.getStnId()\nprof = profs._profs[\"\"][0]\ndates = profs._dates\n\n# Get rid of all of the missing data\nidx = np.where((prof.tmpc != -9999) & (prof.dwpc != -9999))[0]\nprof = tab.profile.create_profile(pres=prof.pres[idx], hght=prof.hght[idx], tmpc=prof.tmpc[idx], dwpc=prof.dwpc[idx], wspd=prof.wspd[idx], \\\n                                  wdir=prof.wdir[idx], strictQC=False, profile='default', date=dates[0], missing=-9999)\n\ndeterministic_cape = tab.params.parcelx(prof, flag=1).bplus\nprint(\"Deterministic SBCAPE:\", deterministic_cape)\n\n# RS-90 and RS-92 accuracy values (see ARM SONDE handbook)\nrand_sigma_rh = 2/2. # % RH (converts to 1-sigma)\nsyst_sigma_rh = 3 # % RH\nrand_sigma_t = 0.15/2. #C (converts to 1-sigma)\nsyst_sigma_t = 0.2 # C\n\ndef perturb_radiosonde(prof, num_perts):\n    '''\n        Pertrub the radiosonde profiles to generate data to create a covariance matrix\n\n        Parameters\n        ----------\n        prof : profile, object\n            Profile object\n        num_perts : number\n            Number of perturbations to perform\n        \n        Returns\n        -------\n        new_t : array_like\n            2D array showing the pertrubed temperature profiles (C)\n        new_q : array_like\n            2D array showing the pertrubed water vapor mixing ratio profiles (g/kg)\n    '''\n    new_t = np.empty((num_perts,len(prof.tmpc)))\n    new_q = np.empty((num_perts,len(prof.tmpc)))\n    for i in range(num_perts):\n        new_t[i,:] = prof.tmpc + (syst_sigma_t*np.random.normal(0, 1, 1)) + (rand_sigma_t*np.random.normal(0, 1, len(prof.tmpc)))\n        rh_sample =  prof.relh + (syst_sigma_rh*np.random.normal(0, 1, 1)) + (rand_sigma_rh*np.random.normal(0, 1, len(prof.tmpc)))\n        idx = np.where(rh_sample < 0)[0]\n        rh_sample[idx] = 0.000001\n        idx = np.where(rh_sample > 100)[0]\n        rh_sample[idx] = 100\n        e_s = tab.thermo.vappres(prof.tmpc)\n        \n        new_q[i,:] = tab.thermo.mixratio(prof.pres, tab.thermo.temp_at_vappres((rh_sample/100.) * e_s))\n        #plt.plot(new_q[i,:], prof.hght)\n        #plt.show()\n    return new_t, new_q\n\ndef hypsometric(temp, alt, sfc_pres):\n    '''\n        Calculate the pressure profile using the hypometric equation\n\n        Parameters\n        ----------\n        temp : array_like\n            Temperature profile in C\n        alt : array_like\n            Height array in m\n        sfc_pres : number\n            Surface pressure value in hPa\n\n        Returns\n        -------\n        pres : array_like\n            The pressure array in hPa\n    '''\n    R = 287. # J/kg*K\n    temp = tab.thermo.ctok(temp)\n    g = 9.81 #m/s^2\n\n    pres_arr = np.ones((temp.shape))\n    pres_arr[0] = sfc_pres\n\n    for l in np.arange(1,len(pres_arr.T),1):\n        avg_temp = (temp[l] + temp[l-1])/2.\n        delta_z = (alt[l-1] - alt[l])\n        a = (g/(R*avg_temp))\n        p_2 = pres_arr[l-1]\n        pres_arr[l] = p_2*np.exp(a*delta_z)\n\n    return pres_arr\n\n# Generate the error covariance matrix for the sounding \nt_dist, q_dist = perturb_radiosonde(prof, 10000)\nSop = np.ma.asarray(np.cov(np.hstack((t_dist, q_dist)).T))\nXop = np.ma.concatenate((prof.tmpc, prof.wvmr))\nu,l,v = np.linalg.svd(Sop)\nSsqrt = np.dot(np.dot(u, np.diag(np.sqrt(l))), v)\n\nnum_samples = 300\ncape_values = np.empty(num_samples)\n\n# Make a figure to show the soundings from the Monte Carlo sampling and the distribution of CAPE\nfig = plt.figure(figsize=(12, 5))\nax = plt.subplot(121, projection='skewx')\nax2 = plt.subplot(122)\nax.grid(True)\nplt.grid(True)\n\n# Plot the \"deterministic\" sounding \nax.semilogy(prof.tmpc[~prof.tmpc.mask], prof.pres[~prof.tmpc.mask], 'r-', lw=2)\nax.semilogy(prof.dwpc[~prof.tmpc.mask], prof.pres[~prof.tmpc.mask], 'g-', lw=2)\n\nfor i in np.arange(num_samples):\n    # Monte Carlo sample the data\n    Z = np.random.normal(0,1, len(Xop))\n    Z_hat = np.dot(Z, Ssqrt) + Xop\n\n    # Get the perturbed temperature and water vapor profiles\n    pert_tmpc = Z_hat[:len(prof.tmpc)]\n    pert_wvmr = Z_hat[len(prof.tmpc):]\n\n    # Calculate the new pressure profile using the hypsometric equation and calculate the dewpoint.\n    pert_pres = hypsometric(pert_tmpc, prof.hght, prof.pres[prof.sfc])\n    pert_dwpc = tab.thermo.temp_at_mixrat(pert_wvmr, pert_pres)\n\n    # Create a BasicProfile object using the perturbed sounding data \n    pert_prof = tab.profile.create_profile(pres=pert_pres, hght=prof.hght, tmpc=pert_tmpc, dwpc=pert_dwpc, wspd=prof.wspd, \\\n                                      wdir=prof.wdir, strictQC=False, profile='default', date=dates[0], missing=-9999)\n    # Lift a parcel\n    pcl = tab.params.parcelx(pert_prof, flag=1) \n    cape_values[i] = pcl.bplus\n\n    #TODO: Plot the parcel trace and the pertrubed profile on a skew-T.\n    ax.semilogy(pert_prof.tmpc[~pert_prof.tmpc.mask], pert_prof.pres[~pert_prof.tmpc.mask], 'r-', lw=.5)\n    ax.semilogy(pert_prof.dwpc[~pert_prof.tmpc.mask], pert_prof.pres[~pert_prof.tmpc.mask], 'g-', lw=.5)\n\nprint(\"Probablisitic SBCAPE (25,50,75th percentiles):\", np.percentile(cape_values, (25,50,75)))\n# Label and format the axes\npresvals = np.arange(1000, 0, -10)\nax.yaxis.set_major_formatter(ScalarFormatter())\nax.set_yticks(np.linspace(100,1000,10))\nax.set_ylim(1050,100)\nax.xaxis.set_major_locator(MultipleLocator(10))\nax.set_xlim(-50,50)\nax.set_ylabel(\"Pressure [mb]\")\nax.set_xlabel(\"Temperature [C]\")\nax2.set_ylabel(\"Count\")\nax2.set_xlabel(\"SBCAPE [J/kg]\")\nax2.hist(cape_values, 15)\n\n# Plot the data\nplt.savefig('plot_ci.png', bbox_inches='tight', dpi=180)"
      ]
    }
  ],
  "metadata": {
    "kernelspec": {
      "display_name": "Python 3",
      "language": "python",
      "name": "python3"
    },
    "language_info": {
      "codemirror_mode": {
        "name": "ipython",
        "version": 3
      },
      "file_extension": ".py",
      "mimetype": "text/x-python",
      "name": "python",
      "nbconvert_exporter": "python",
      "pygments_lexer": "ipython3",
      "version": "3.7.6"
    }
  },
  "nbformat": 4,
  "nbformat_minor": 0
}