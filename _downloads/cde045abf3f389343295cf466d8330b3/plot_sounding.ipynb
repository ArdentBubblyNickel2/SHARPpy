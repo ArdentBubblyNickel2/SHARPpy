{
  "cells": [
    {
      "cell_type": "code",
      "execution_count": null,
      "metadata": {
        "collapsed": false
      },
      "outputs": [],
      "source": [
        "%matplotlib inline"
      ]
    },
    {
      "cell_type": "markdown",
      "metadata": {},
      "source": [
        "\nPlotting a sounding with indices and a hodograph\n================================================\n"
      ]
    },
    {
      "cell_type": "code",
      "execution_count": null,
      "metadata": {
        "collapsed": false
      },
      "outputs": [],
      "source": [
        "import warnings # Silence the warnings from SHARPpy\nwarnings.filterwarnings(\"ignore\")\nimport sharppy.plot.skew as skew\nfrom matplotlib.ticker import ScalarFormatter, MultipleLocator\nfrom matplotlib.collections import LineCollection\nimport matplotlib.transforms as transforms\nimport matplotlib.pyplot as plt\nfrom datetime import datetime\nimport numpy as np\nfrom matplotlib import gridspec\nfrom sharppy.sharptab import winds, utils, params, thermo, interp, profile\nfrom sharppy.io.spc_decoder import SPCDecoder\n\ndef decode(filename):\n\n    dec = SPCDecoder(filename)\n\n    if dec is None:\n        raise IOError(\"Could not figure out the format of '%s'!\" % filename)\n\n    # Returns the set of profiles from the file that are from the \"Profile\" class.\n    profs = dec.getProfiles()\n    stn_id = dec.getStnId()\n\n    for k in list(profs._profs.keys()):\n        all_prof = profs._profs[k]\n        dates = profs._dates\n        for i in range(len(all_prof)):\n            prof = all_prof[i]\n            new_prof = profile.create_profile(pres=prof.pres, hght=prof.hght, tmpc=prof.tmpc, dwpc=prof.dwpc, wspd=prof.wspd, \\\n                                              wdir=prof.wdir, strictQC=False, profile='convective', date=dates[i])\n            return new_prof, dates[i], stn_id \n \nFILENAME = 'data/14061619.OAX'\n\nprof, time, location = decode(FILENAME)\n# Bounds of the pressure axis \npb_plot=1050\npt_plot=100\ndp_plot=10\nplevs_plot = np.arange(pb_plot,pt_plot-1,-dp_plot)\n# Open up the text file with the data in columns (e.g. the sample OAX file distributed with SHARPpy)\ntitle = time.strftime('%Y%m%d/%H%M') + ' ' + location + '   (Observed)'\n\n# Set up the figure in matplotlib.\nfig = plt.figure(figsize=(9, 8))\ngs = gridspec.GridSpec(4,4, width_ratios=[1,5,1,1])\nax = plt.subplot(gs[0:3, 0:2], projection='skewx')\nskew.draw_title(ax, title)\nax.grid(True)\nplt.grid(True)\n\n# Plot the background variables\npresvals = np.arange(1000, 0, -10)\n\nax.semilogy(prof.tmpc[~prof.tmpc.mask], prof.pres[~prof.tmpc.mask], 'r', lw=2)\nax.semilogy(prof.dwpc[~prof.dwpc.mask], prof.pres[~prof.dwpc.mask], 'g', lw=2)\nax.semilogy(prof.vtmp[~prof.dwpc.mask], prof.pres[~prof.dwpc.mask], 'r--')\nax.semilogy(prof.wetbulb[~prof.dwpc.mask], prof.pres[~prof.dwpc.mask], 'c-')\n\n# Plot the parcel trace, but this may fail.  If it does so, inform the user.\ntry:\n    ax.semilogy(prof.mupcl.ttrace, prof.mupcl.ptrace, 'k--')\nexcept:\n    print(\"Couldn't plot parcel traces...\")\n\n# Highlight the 0 C and -20 C isotherms.\nl = ax.axvline(0, color='b', ls='--')\nl = ax.axvline(-20, color='b', ls='--')\n\n# Disables the log-formatting that comes with semilogy\nax.yaxis.set_major_formatter(ScalarFormatter())\nax.set_yticks(np.linspace(100,1000,10))\nax.set_ylim(1050,100)\n\n# Plot the hodograph data.\ninset_axes = skew.draw_hodo_inset(ax, prof)\nskew.plotHodo(inset_axes, prof.hght, prof.u, prof.v, color='r')\n#inset_axes.text(srwind[0], srwind[1], 'RM', color='r', fontsize=8)\n#inset_axes.text(srwind[2], srwind[3], 'LM', color='b', fontsize=8)\n\n# Draw the wind barbs axis and everything that comes with it.\nax.xaxis.set_major_locator(MultipleLocator(10))\nax.set_xlim(-50,50)\nax2 = plt.subplot(gs[0:3,2])\nax3 = plt.subplot(gs[3,0:3])\nskew.plot_wind_axes(ax2)\nskew.plot_wind_barbs(ax2, prof.pres, prof.u, prof.v)\nsrwind = params.bunkers_storm_motion(prof)\ngs.update(left=0.05, bottom=0.05, top=0.95, right=1, wspace=0.025)\n\n# Calculate indices to be shown.  More indices can be calculated here using the tutorial and reading the params module.\np1km = interp.pres(prof, interp.to_msl(prof, 1000.))\np6km = interp.pres(prof, interp.to_msl(prof, 6000.))\nsfc = prof.pres[prof.sfc]\nsfc_1km_shear = winds.wind_shear(prof, pbot=sfc, ptop=p1km)\nsfc_6km_shear = winds.wind_shear(prof, pbot=sfc, ptop=p6km)\nsrh3km = winds.helicity(prof, 0, 3000., stu = srwind[0], stv = srwind[1])\nsrh1km = winds.helicity(prof, 0, 1000., stu = srwind[0], stv = srwind[1])\nscp = params.scp(prof.mupcl.bplus, prof.right_esrh[0], prof.ebwspd)\nstp_cin = params.stp_cin(prof.mlpcl.bplus, prof.right_esrh[0], prof.ebwspd, prof.mlpcl.lclhght, prof.mlpcl.bminus)\nstp_fixed = params.stp_fixed(prof.sfcpcl.bplus, prof.sfcpcl.lclhght, srh1km[0], utils.comp2vec(prof.sfc_6km_shear[0], prof.sfc_6km_shear[1])[1])\nship = params.ship(prof)\n\n# A routine to perform the correct formatting when writing the indices out to the figure.\ndef fmt(value, fmt='int'):\n    if fmt == 'int':\n        try:\n            val = int(value)\n        except:\n            val = str(\"M\")\n    else:\n        try:\n            val = round(value,1)\n        except:\n            val = \"M\"\n    return val\n\n# Setting a dictionary that is a collection of all of the indices we'll be showing on the figure.\n# the dictionary includes the index name, the actual value, and the units.\nindices = {'SBCAPE': [fmt(prof.sfcpcl.bplus), 'J/kg'],\\\n           'SBCIN': [fmt(prof.sfcpcl.bminus), 'J/kg'],\\\n           'SBLCL': [fmt(prof.sfcpcl.lclhght), 'm AGL'],\\\n           'SBLFC': [fmt(prof.sfcpcl.lfchght), 'm AGL'],\\\n           'SBEL': [fmt(prof.sfcpcl.elhght), 'm AGL'],\\\n           'SBLI': [fmt(prof.sfcpcl.li5), 'C'],\\\n           'MLCAPE': [fmt(prof.mlpcl.bplus), 'J/kg'],\\\n           'MLCIN': [fmt(prof.mlpcl.bminus), 'J/kg'],\\\n           'MLLCL': [fmt(prof.mlpcl.lclhght), 'm AGL'],\\\n           'MLLFC': [fmt(prof.mlpcl.lfchght), 'm AGL'],\\\n           'MLEL': [fmt(prof.mlpcl.elhght), 'm AGL'],\\\n           'MLLI': [fmt(prof.mlpcl.li5), 'C'],\\\n           'MUCAPE': [fmt(prof.mupcl.bplus), 'J/kg'],\\\n           'MUCIN': [fmt(prof.mupcl.bminus), 'J/kg'],\\\n           'MULCL': [fmt(prof.mupcl.lclhght), 'm AGL'],\\\n           'MULFC': [fmt(prof.mupcl.lfchght), 'm AGL'],\\\n           'MUEL': [fmt(prof.mupcl.elhght), 'm AGL'],\\\n           'MULI': [fmt(prof.mupcl.li5), 'C'],\\\n           '0-1 km SRH': [fmt(srh1km[0]), 'm2/s2'],\\\n           '0-1 km Shear': [fmt(utils.comp2vec(sfc_1km_shear[0], sfc_1km_shear[1])[1]), 'kts'],\\\n           '0-3 km SRH': [fmt(srh3km[0]), 'm2/s2'],\\\n           '0-6 km Shear': [fmt(utils.comp2vec(sfc_6km_shear[0], sfc_6km_shear[1])[1]), 'kts'],\\\n           'Eff. SRH': [fmt(prof.right_esrh[0]), 'm2/s2'],\\\n           'EBWD': [fmt(prof.ebwspd), 'kts'],\\\n           'PWV': [round(prof.pwat, 2), 'inch'],\\\n           'K-index': [fmt(params.k_index(prof)), ''],\\\n           'STP(fix)': [fmt(stp_fixed, 'flt'), ''],\\\n           'SHIP': [fmt(ship, 'flt'), ''],\\\n           'SCP': [fmt(scp, 'flt'), ''],\\\n           'STP(cin)': [fmt(stp_cin, 'flt'), '']}\n\n# List the indices within the indices dictionary on the side of the plot.\ntrans = transforms.blended_transform_factory(ax.transAxes,ax.transData)\n\n# Write out all of the indices to the figure.\nprint(\"##############\")\nprint(\"   INDICES    \")\nprint(\"##############\")\nstring = ''\nkeys = np.sort(list(indices.keys()))\nx = 0\ncounter = 0\nfor key in keys:\n    string = string + key + ': ' + str(indices[key][0]) + ' ' + indices[key][1] + '\\n'\n    print((key + \": \" + str(indices[key][0]) + ' ' + indices[key][1]))\n    if counter < 7:\n        counter += 1\n        continue\n    else:\n        counter = 0\n        ax3.text(x, 1, string, verticalalignment='top', transform=ax3.transAxes, fontsize=11)\n        string = ''\n        x += 0.3\nax3.text(x, 1, string, verticalalignment='top', transform=ax3.transAxes, fontsize=11)\nax3.set_axis_off()\n\n# Show SARS matches (edited for Keith Sherburn)\ntry:\n    supercell_matches = prof.supercell_matches\n    hail_matches = prof.matches \nexcept:\n    supercell_matches = prof.right_supercell_matches\n    hail_matches = prof.right_matches\n\nprint()\nprint(\"#############\")\nprint(\" SARS OUTPUT \")\nprint(\"#############\")\nfor mtype, matches in zip(['Supercell', 'Hail'], [supercell_matches, hail_matches]):\n    print(mtype)\n    print('-----------')\n    if len(matches[0]) == 0:\n        print(\"NO QUALITY MATCHES\")\n    for i in range(len(matches[0])):\n        print(matches[0][i] + ' ' + matches[1][i])\n    print(\"Total Loose Matches:\", matches[2])\n    print(\"# of Loose Matches that met Criteria:\", matches[3])\n    print(\"SVR Probability:\", matches[4])\n    print() \n\n# Finalize the image formatting and alignments, and save the image to the file.\ngs.tight_layout(fig)\nfn = time.strftime('%Y%m%d.%H%M') + '_' + location + '.png'\nfn = fn.replace('/', '')\nprint((\"SHARPpy Skew-T image output at:\", fn))\nplt.savefig(fn, bbox_inches='tight', dpi=180)"
      ]
    }
  ],
  "metadata": {
    "kernelspec": {
      "display_name": "Python 3",
      "language": "python",
      "name": "python3"
    },
    "language_info": {
      "codemirror_mode": {
        "name": "ipython",
        "version": 3
      },
      "file_extension": ".py",
      "mimetype": "text/x-python",
      "name": "python",
      "nbconvert_exporter": "python",
      "pygments_lexer": "ipython3",
      "version": "3.7.6"
    }
  },
  "nbformat": 4,
  "nbformat_minor": 0
}